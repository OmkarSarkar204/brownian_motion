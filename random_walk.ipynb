{
 "cells": [
  {
   "cell_type": "code",
   "execution_count": null,
   "id": "12ec3cd4",
   "metadata": {},
   "outputs": [],
   "source": [
    "import numpy as np\n",
    "import matplotlib.pyplot as plt\n",
    "from sklearn.model_selection import train_test_split\n",
    "from tensorflow.keras.models import Sequential\n",
    "from tensorflow.keras.layers import Dense, LSTM"
   ]
  },
  {
   "cell_type": "code",
   "execution_count": null,
   "id": "e9098079",
   "metadata": {},
   "outputs": [],
   "source": [
    "pos = np.array([0.0,0.0])\n",
    "num_of_steps = 10000\n",
    "step_size = 1.0\n",
    "path = [pos.copy()]\n",
    "\n",
    "for i in range(num_of_steps):\n",
    "  angle = np.random.uniform(0,2 * np.pi)\n",
    "  disp = np.array([step_size * np.cos(angle), step_size * np.sin(angle)])\n",
    "  pos += disp\n",
    "  path.append(pos.copy())\n",
    "path_arr = np.array(path)\n",
    "print(f\"Generated a path: {path_arr.shape}\")"
   ]
  },
  {
   "cell_type": "code",
   "execution_count": null,
   "id": "bed229c7",
   "metadata": {},
   "outputs": [],
   "source": [
    "print(\"Preparing the data\")\n",
    "window_size = 10\n",
    "X_data = []\n",
    "y_data = []\n",
    "for i in range(len(path_arr) - window_size):\n",
    "  window = path_arr[i:i+window_size]\n",
    "  X_data.append(window)\n",
    "  \n",
    "  label = path_arr[i+window_size]\n",
    "  y_data.append(label)\n",
    "\n",
    "X = np.array(X_data)\n",
    "y = np.array(y_data)\n",
    "\n",
    "print(f\"X shape: {X.shape}\")\n",
    "print(f\"y shape: {y.shape}\")"
   ]
  },
  {
   "cell_type": "code",
   "execution_count": null,
   "id": "fb522e59",
   "metadata": {},
   "outputs": [],
   "source": [
    "\n",
    "X_train, X_test, y_train, y_test = train_test_split(X, y, test_size=0.2, random_state=42)\n",
    "\n",
    "model = Sequential([\n",
    "  LSTM(50, activation='relu', input_shape=(10, 2)),\n",
    "  Dense(25, activation='relu'),\n",
    "  Dense(2)\n",
    "])\n",
    "\n",
    "model.compile(optimizer='adam', loss='mse')\n",
    "\n",
    "model.fit(X_train, y_train, epochs=5, validation_data=(X_test, y_test))\n"
   ]
  },
  {
   "cell_type": "code",
   "execution_count": null,
   "id": "580c9d33",
   "metadata": {},
   "outputs": [],
   "source": [
    "plt.figure(figsize=(10,10))\n",
    "plt.plot(path_arr[:,0], path_arr[:,1], lw=0.5)\n",
    "plt.title(\"Brownian Motion(Random Walk)\")\n",
    "plt.xlabel(\"x\")\n",
    "plt.ylabel(\"y\")\n",
    "plt.grid(True)\n",
    "plt.show()"
   ]
  },
  {
   "cell_type": "code",
   "execution_count": null,
   "id": "94f1be02",
   "metadata": {},
   "outputs": [],
   "source": [
    "\n",
    "num_points_to_plot = 100\n",
    "path_segment_X = X_test[:num_points_to_plot]\n",
    "true_path_y = y_test[:num_points_to_plot]\n",
    "predicted_positions = model.predict(path_segment_X)\n",
    "\n",
    "plt.figure(figsize=(12, 12))\n",
    "plt.scatter(predicted_positions[:, 0], predicted_positions[:, 1], color='r', marker='x', label='Model Predictions', zorder=3)\n",
    "plt.title(\"Visual Test: Model Predictions vs. True Path\")\n",
    "plt.xlabel(\"X Position\")\n",
    "plt.ylabel(\"Y Position\")\n",
    "plt.legend()\n",
    "plt.grid(True)\n",
    "plt.axis('equal')\n",
    "plt.show()"
   ]
  },
  {
   "cell_type": "code",
   "execution_count": null,
   "id": "5d8e5608",
   "metadata": {},
   "outputs": [],
   "source": [
    "num_points_to_plot = 100\n",
    "path_segment_X = X_test[:num_points_to_plot]\n",
    "true_path_y = y_test[:num_points_to_plot]\n",
    "\n",
    "predicted_positions = model.predict(path_segment_X)\n",
    "plt.figure(figsize=(12, 12))\n",
    "true_path_start_points = path_segment_X[:, -1, :]\n",
    "plt.plot(true_path_start_points[:, 0], true_path_start_points[:, 1], 'b-o', label='True Path')\n",
    "\n",
    "plt.scatter(predicted_positions[:, 0], predicted_positions[:, 1], color='r', marker='x', label='Model Predictions', zorder=3)\n",
    "\n",
    "plt.title(\"Visual Test: Model Predictions vs. True Path\")\n",
    "plt.xlabel(\"X Position\")\n",
    "plt.ylabel(\"Y Position\")\n",
    "plt.legend()\n",
    "plt.grid(True)\n",
    "plt.axis('equal')\n",
    "plt.show()"
   ]
  }
 ],
 "metadata": {
  "kernelspec": {
   "display_name": "mlenv",
   "language": "python",
   "name": "python3"
  },
  "language_info": {
   "codemirror_mode": {
    "name": "ipython",
    "version": 3
   },
   "file_extension": ".py",
   "mimetype": "text/x-python",
   "name": "python",
   "nbconvert_exporter": "python",
   "pygments_lexer": "ipython3",
   "version": "3.11.13"
  }
 },
 "nbformat": 4,
 "nbformat_minor": 5
}
